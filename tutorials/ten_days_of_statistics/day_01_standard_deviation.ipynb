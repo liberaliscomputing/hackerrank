{
 "cells": [
  {
   "cell_type": "markdown",
   "metadata": {},
   "source": [
    "## Day-01: Standard Deviation\n",
    "\n",
    "### Objective \n",
    "In this challenge, we practice calculating *standard deviation*. Check out the [Tutorial](https://www.hackerrank.com/challenges/s10-standard-deviation/tutorial) tab for learning materials and an instructional video!\n",
    "\n",
    "### Task \n",
    "Given an array, *X*, of *N* integers, calculate and print the standard deviation. Your answer should be in decimal form, rounded to a scale of *1* decimal place (i.e., *12.3* format). An error margin of *1* will be tolerated for the standard deviation.\n",
    "\n",
    "### Input Format\n",
    "The first line contains an integer, *N*, denoting the number of elements in the array. \n",
    "The second line contains *N* space-separated integers describing the respective elements of the array.\n",
    "\n",
    "### Constraints\n",
    "+ `5 <= N <= 100`\n",
    "+ `0 < xi <= 10**5` where *xi* is the *ith* element of array *X*.\n",
    "\n",
    "### Output Format\n",
    "Print the *standard deviation* on a new line, rounded to a scale of *1* decimal place (i.e., *12.3* format).\n",
    "\n",
    "### Sample Input\n",
    "```python\n",
    "5\n",
    "10 40 30 50 20\n",
    "```\n",
    "\n",
    "### Sample Output\n",
    "```python\n",
    "14.1\n",
    "```\n",
    "\n",
    "### Explanation\n",
    "First, we find the *mean*: \n",
    "```python\n",
    "mu = sum(X)/N = 30\n",
    "```\n",
    "\n",
    "Next, we calculate the squared distance from the mean, `(xi = mu)**2`, for each *xi*:\n",
    "1. `(x0 - mu)**2 = (10 - 30)**2 = 400`\n",
    "2. `(x1 - mu)**2 = (40 - 30)**2 = 100`\n",
    "3. `(x2 - mu)**2 = (30 - 30)**2 = 0`\n",
    "4. `(x3 - mu)**2 = (50 - 30)**2 = 400`\n",
    "5. `(x4 - mu)**2 = (20 - 30)**2 = 100`\n",
    "\n",
    "Now, we can compute `sum((xi = mu)**2) = 400 + 100 + 0 + 400 + 100 = 1000`, so\n",
    "```python\n",
    "sigma = sqrt(sum((xi = mu)**2)/N) = sqrt(1000/5) = sqrt(200) = 14.1421356\n",
    "```\n",
    "\n",
    "Once rounded to a scale of *1* decimal place, our result is *14.1*.\n",
    "\n",
    "\n",
    "### Current Buffer"
   ]
  },
  {
   "cell_type": "code",
   "execution_count": 1,
   "metadata": {
    "collapsed": false
   },
   "outputs": [
    {
     "name": "stdout",
     "output_type": "stream",
     "text": [
      "5\n",
      "10 40 30 20 50\n",
      "14.1\n"
     ]
    }
   ],
   "source": [
    "# Enter your code here. Read input from STDIN. Print output to STDOUT\n",
    "from __future__ import division\n",
    "import math\n",
    "\n",
    "\n",
    "N = int(raw_input().strip())\n",
    "X = map(int, raw_input().strip().split())\n",
    "\n",
    "mu = sum(X)/N\n",
    "sigma = math.sqrt(sum((x - mu)**2 for x in X)/N)\n",
    "\n",
    "print round(sigma, 1)"
   ]
  }
 ],
 "metadata": {
  "kernelspec": {
   "display_name": "Python 2",
   "language": "python",
   "name": "python2"
  },
  "language_info": {
   "codemirror_mode": {
    "name": "ipython",
    "version": 2
   },
   "file_extension": ".py",
   "mimetype": "text/x-python",
   "name": "python",
   "nbconvert_exporter": "python",
   "pygments_lexer": "ipython2",
   "version": "2.7.6"
  }
 },
 "nbformat": 4,
 "nbformat_minor": 0
}
