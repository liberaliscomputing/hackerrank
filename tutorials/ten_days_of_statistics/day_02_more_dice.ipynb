{
 "cells": [
  {
   "cell_type": "markdown",
   "metadata": {},
   "source": [
    "## Day-02: More Dice\n",
    "\n",
    "### Objective \n",
    "In this challenge, we practice calculating probability. We recommend you review the previous challenge's [Tutorial](https://www.hackerrank.com/challenges/s10-mcq-1/tutorial) before attempting this problem. \n",
    "\n",
    "### Task \n",
    "In a single toss of *2* fair (evenly-weighted) six-sided dice, find the probability that the values rolled by each die will be *different* and the two dice have a sum of *6*.\n",
    "+ **`1/9`**\n",
    "+ `1/6`\n",
    "+ `2/3`\n",
    "+ `5/6`"
   ]
  }
 ],
 "metadata": {
  "kernelspec": {
   "display_name": "Python 2",
   "language": "python",
   "name": "python2"
  },
  "language_info": {
   "codemirror_mode": {
    "name": "ipython",
    "version": 2
   },
   "file_extension": ".py",
   "mimetype": "text/x-python",
   "name": "python",
   "nbconvert_exporter": "python",
   "pygments_lexer": "ipython2",
   "version": "2.7.6"
  }
 },
 "nbformat": 4,
 "nbformat_minor": 0
}
