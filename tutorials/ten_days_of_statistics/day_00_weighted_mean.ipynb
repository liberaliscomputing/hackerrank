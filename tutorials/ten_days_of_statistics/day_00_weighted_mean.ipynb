{
 "cells": [
  {
   "cell_type": "markdown",
   "metadata": {},
   "source": [
    "## Day-00: Weighted Mean\n",
    "\n",
    "### Objective\n",
    "In the previous challenge, we calculated a mean. In this challenge, we practice calculating a *weighted mean*. Check out the [Tutorial](https://www.hackerrank.com/challenges/s10-weighted-mean/tutorial) tab for learning materials and an instructional video!\n",
    "\n",
    "### Task \n",
    "Given an array, *X*, of *N* integers and an array, *W*, representing the respective weights of *X*'s elements, calculate and print the weighted mean of *X*'s elements. Your answer should be rounded to a scale of *1* decimal place (*i.e.*, *12.3* format).\n",
    "\n",
    "### Input Format\n",
    "The first line contains an integer, *N*, denoting the number of elements in arrays *X* and *W*. \n",
    "The second line contains *N* space-separated integers describing the respective elements of array *X*. \n",
    "The third line contains *N* space-separated integers describing the respective elements of array *W*.\n",
    "\n",
    "### Constraints\n",
    "+ `5 <= N <= 50`\n",
    "+ `0 <= xi <= 100`, where *xi* is the *ith* element of *X*\n",
    "+ `0 <= wi <= 100`, where *wi* is the *ith* element of *W*\n",
    "\n",
    "### Output Format\n",
    "Print the *weighted mean* on a new line. Your answer should be rounded to a scale of *1* decimal place (*i.e.*, *12.3* format).\n",
    "\n",
    "### Sample Input\n",
    "```python\n",
    "5\n",
    "10 40 30 50 20\n",
    "1 2 3 4 5\n",
    "```\n",
    "\n",
    "### Sample Output\n",
    "```python\n",
    "32.0\n",
    "```\n",
    "\n",
    "### Explanation\n",
    "We use the following formula to calculate the weighted mean:\n",
    "```python\n",
    "m = sum(x*w)/sum(w) = (10*1 + 40*2 + 30*3 + 50*4 + 20*5)/(1 + 2 + 3 + 4+ 5) = 480/15 = 32.0\n",
    "```\n",
    "\n",
    "And then print our result to a scale of *1* decimal place (*32.0*) on a new line.\n",
    "\n",
    "### Current Buffer"
   ]
  },
  {
   "cell_type": "code",
   "execution_count": 1,
   "metadata": {
    "collapsed": false
   },
   "outputs": [
    {
     "name": "stdout",
     "output_type": "stream",
     "text": [
      "5\n",
      "10 40 30 50 20\n",
      "1 2 3 4 5\n",
      "32.0\n"
     ]
    }
   ],
   "source": [
    "from __future__ import division\n",
    "\n",
    "\n",
    "# Enter your code here. Read input from STDIN. Print output to STDOUT\n",
    "N = int(raw_input().strip())\n",
    "X = map(int, raw_input().strip().split())\n",
    "W = map(int, raw_input().strip().split())\n",
    "\n",
    "weighted_sum = 0\n",
    "for (x, w) in zip(X, W):\n",
    "    weighted_sum += x*w\n",
    "\n",
    "weighted_mean = weighted_sum/sum(W)\n",
    "\n",
    "print round(weighted_mean, 1)"
   ]
  }
 ],
 "metadata": {
  "kernelspec": {
   "display_name": "Python 2",
   "language": "python",
   "name": "python2"
  },
  "language_info": {
   "codemirror_mode": {
    "name": "ipython",
    "version": 2
   },
   "file_extension": ".py",
   "mimetype": "text/x-python",
   "name": "python",
   "nbconvert_exporter": "python",
   "pygments_lexer": "ipython2",
   "version": "2.7.6"
  }
 },
 "nbformat": 4,
 "nbformat_minor": 0
}
