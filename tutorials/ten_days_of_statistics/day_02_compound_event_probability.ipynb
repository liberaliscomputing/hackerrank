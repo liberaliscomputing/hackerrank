{
 "cells": [
  {
   "cell_type": "markdown",
   "metadata": {},
   "source": [
    "## Day-02: Compound Event Probability\n",
    "\n",
    "### Objective \n",
    "In this challenge, we practice calculating the probability of a compound event. We recommend you review today's [Probability Tutorial](https://www.hackerrank.com/challenges/s10-mcq-1/tutorial) before attempting this challenge.\n",
    "\n",
    "### Task \n",
    "There are *3* urns labeled *X*, *Y*, and *Z*. \n",
    "+ Urn *X* contains *4* red balls and *3* black balls.\n",
    "+ Urn *Y* contains *5* red balls and *4* black balls.\n",
    "+ Urn *Z* contains *4* red balls and *4* black balls. \n",
    "\n",
    "One ball is drawn from each of the *3* urns. What is the probability that, of the *3* balls drawn, *2* are red and *1* is black?\n",
    "+ `10/63`\n",
    "+ `2/7`\n",
    "+ **`17/42`**\n",
    "+ `31/126`\n",
    "\n",
    "### Proof\n",
    "```python\n",
    "| H | R | R | B |\n",
    "| - | - | - | - |\n",
    "| 1 | X | Y | Z |\n",
    "| 2 | Z | X | Y |\n",
    "| 3 | Y | Z | X |\n",
    "```\n",
    "\n",
    "+ `H1 = 4/7 * 5/9 * 1/2 = 10/63`\n",
    "+ `H2 = 1/2 * 4/7 * 4/9 = 8/63`\n",
    "+ `H3 = 5/9 * 1/2 * 3/7 = 15/126`\n",
    "+ `H = 10/63 + 8/63 + 15/126 = 20/126 + 16/126 + 15/126 = 51/126 = 17/42`\n"
   ]
  }
 ],
 "metadata": {
  "kernelspec": {
   "display_name": "Python 2",
   "language": "python",
   "name": "python2"
  },
  "language_info": {
   "codemirror_mode": {
    "name": "ipython",
    "version": 2
   },
   "file_extension": ".py",
   "mimetype": "text/x-python",
   "name": "python",
   "nbconvert_exporter": "python",
   "pygments_lexer": "ipython2",
   "version": "2.7.6"
  }
 },
 "nbformat": 4,
 "nbformat_minor": 0
}
