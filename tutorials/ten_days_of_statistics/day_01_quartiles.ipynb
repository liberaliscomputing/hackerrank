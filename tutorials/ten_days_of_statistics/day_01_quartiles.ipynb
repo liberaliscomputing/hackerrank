{
 "cells": [
  {
   "cell_type": "markdown",
   "metadata": {},
   "source": [
    "## Day-01: Quartiles\n",
    "\n",
    "### Objective \n",
    "In this challenge, we practice calculating *quartiles*. Check out the [Tutorial](https://www.hackerrank.com/challenges/s10-quartiles/tutorial) tab for learning materials and an instructional video!\n",
    "\n",
    "### Task\n",
    "Given an array, *X*, of *n* integers, calculate the respective first quartile (*Q1*), second quartile (*Q2*), and third quartile (*Q3*). It is guaranteed that *Q1*, *Q2*, and *Q3* are integers.\n",
    "\n",
    "### Input Format\n",
    "The first line contains an integer, *n*, denoting the number of elements in the array. \n",
    "The second line contains *n* space-separated integers describing the array's elements.\n",
    "\n",
    "### Constraints\n",
    "+ `5 <= n <= 50`\n",
    "+ `0 < xi <= 100`, where *xi* is the *ith* element of the array.\n",
    "\n",
    "### Output Format\n",
    "Print *3* lines of output in the following order:\n",
    "1. The first line should be the value of *Q1*.\n",
    "2. The second line should be the value of *Q2*.\n",
    "3. The third line should be the value of *Q3*.\n",
    "\n",
    "### Sample Input\n",
    "```python\n",
    "9\n",
    "3 7 8 5 12 14 21 13 18\n",
    "```\n",
    "\n",
    "### Sample Output\n",
    "```python\n",
    "6\n",
    "12\n",
    "16\n",
    "```\n",
    "\n",
    "### Explanation\n",
    "`X = {3, 7, 8, 5, 12, 14, 21, 13, 18}`. When we sort the elements in non-decreasing order, we get `X = {3, 5, 7, 8, 12, 13, 14, 18, 21}`. It's easy to see that `median(X) = 12`.\n",
    "\n",
    "As there are an odd number of data points, we do not include the median (the central value in the ordered list) in either half:\n",
    "```python\n",
    "Lower half (L): 3, 5, 7, 8\n",
    "Upper half (U): 13, 14, 18, 21\n",
    "```\n",
    "\n",
    "Now, we find the quartiles:\n",
    "+ *Q(1)* is the `median(L)`. So, `Q1 = (5 + 7)/2 = 6`.\n",
    "+ *Q(2)* is the `median(X)`. So, `Q2 = 12`.\n",
    "+ *Q(3)* is the `median(U)`. So, `Q3 = (14 + 18)/2 = 16`."
   ]
  },
  {
   "cell_type": "code",
   "execution_count": 1,
   "metadata": {
    "collapsed": false
   },
   "outputs": [
    {
     "name": "stdout",
     "output_type": "stream",
     "text": [
      "9\n",
      "3 7 8 5 12 14 21 13 18\n",
      "6\n",
      "12\n",
      "16\n"
     ]
    }
   ],
   "source": [
    "# Enter your code here. Read input from STDIN. Print output to STDOUT\n",
    "def median(n, nums):\n",
    "    nums.sort()\n",
    "    mid = n/2\n",
    "    \n",
    "    if n%2:\n",
    "        return nums[mid]\n",
    "    return sum(nums[mid - 1:mid + 1])/2\n",
    "\n",
    "def quartile(n, nums, q):\n",
    "    nums.sort()\n",
    "    mid = n/2\n",
    "    \n",
    "    if q == 1:\n",
    "        nums = nums[:mid] \n",
    "    elif q == 2:\n",
    "        return median(n, nums)\n",
    "    else:\n",
    "        if n%2:\n",
    "            nums = nums[mid + 1:]\n",
    "        else:\n",
    "            nums = nums[mid:]\n",
    "    \n",
    "    return median(len(nums), nums)\n",
    "\n",
    "n = int(raw_input().strip())\n",
    "X = map(int, raw_input().strip().split())\n",
    "\n",
    "print quartile(n, X, 1)\n",
    "print quartile(n, X, 2)\n",
    "print quartile(n, X, 3)"
   ]
  }
 ],
 "metadata": {
  "kernelspec": {
   "display_name": "Python 2",
   "language": "python",
   "name": "python2"
  },
  "language_info": {
   "codemirror_mode": {
    "name": "ipython",
    "version": 2
   },
   "file_extension": ".py",
   "mimetype": "text/x-python",
   "name": "python",
   "nbconvert_exporter": "python",
   "pygments_lexer": "ipython2",
   "version": "2.7.6"
  }
 },
 "nbformat": 4,
 "nbformat_minor": 0
}
