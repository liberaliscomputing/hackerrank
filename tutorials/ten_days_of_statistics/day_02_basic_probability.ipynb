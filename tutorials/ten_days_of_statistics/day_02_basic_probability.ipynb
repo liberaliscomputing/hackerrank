{
 "cells": [
  {
   "cell_type": "markdown",
   "metadata": {},
   "source": [
    "## Day-02: Basic Probability\n",
    "\n",
    "### Objective \n",
    "In this challenge, we practice calculating probability. Check out the [Tutorial](https://www.hackerrank.com/challenges/s10-mcq-1/tutorial) tab for a breakdown of probability fundamentals! \n",
    "\n",
    "### Task \n",
    "In a single toss of *2* fair (evenly-weighted) six-sided dice, find the probability that their sum will be *at most 9*.\n",
    "+ `2/3`\n",
    "+ **`5/6`**\n",
    "+ `1/4`\n",
    "+ `1/6`"
   ]
  }
 ],
 "metadata": {
  "kernelspec": {
   "display_name": "Python 2",
   "language": "python",
   "name": "python2"
  },
  "language_info": {
   "codemirror_mode": {
    "name": "ipython",
    "version": 2
   },
   "file_extension": ".py",
   "mimetype": "text/x-python",
   "name": "python",
   "nbconvert_exporter": "python",
   "pygments_lexer": "ipython2",
   "version": "2.7.6"
  }
 },
 "nbformat": 4,
 "nbformat_minor": 0
}
