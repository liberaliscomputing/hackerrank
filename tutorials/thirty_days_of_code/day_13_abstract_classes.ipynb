{
 "cells": [
  {
   "cell_type": "markdown",
   "metadata": {},
   "source": [
    "## Day-13: Abstract Classes\n",
    "\n",
    "### Objective \n",
    "Today, we're taking what we learned yesterday about [*Inheritance*](https://docs.oracle.com/javase/tutorial/java/IandI/subclasses.html) and extending it to [*Abstract Classes*](https://docs.oracle.com/javase/tutorial/java/IandI/abstract.html). Because this is a very specific Object-Oriented concept, submissions are limited to the few languages that use this construct. Check out the [Tutorial](https://www.hackerrank.com/challenges/30-abstract-classes/tutorial) tab for learning materials and an instructional video!\n",
    "\n",
    "### Task \n",
    "Given a *Book* class and a *Solution* class, write a *MyBook* class that does the following:\n",
    "+ Inherits from *Book*\n",
    "+ Has a parameterized constructor taking these *3* parameters:\n",
    "    1. string *title*\n",
    "    2. string *author*\n",
    "    3. int *price*\n",
    "+ Implements the *Book* class' abstract *display()* method so it prints these *3* lines:\n",
    "    1. `Title:`, a space, and then the current instance's *title*.\n",
    "    2. `Author:`, a space, and then the current instance's *author*.\n",
    "    3. `Price:`, a space, and then the current instance's *price*.\n",
    "    \n",
    "**Note:** Because these classes are being written in the same file, you must not use an access modifier (e.g.: `public`) when declaring *MyBook* or your code will not execute.\n",
    "\n",
    "### Input Format\n",
    "You are not responsible for reading any input from stdin. The *Solution* class creates a *Book* object and calls the *MyBook* class constructor (passing it the necessary arguments). It then calls the *display* method on the *Book* object.\n",
    "\n",
    "### Output Format\n",
    "The `display()` method should print and label the respective *title*, *author*, and *price* of the *MyBook* object's instance (with each value on its own line) like so:\n",
    "```python\n",
    "Title: title\n",
    "Author: author\n",
    "Price: price\n",
    "```\n",
    "\n",
    "### Sample Input\n",
    "The following input from stdin is handled by the locked stub code in your editor:\n",
    "```python\n",
    "The Alchemist\n",
    "Paulo Coelho\n",
    "248\n",
    "```\n",
    "\n",
    "### Sample Output\n",
    "The following output is printed by your *display()* method:\n",
    "```python\n",
    "Title: The Alchemist\n",
    "Author: Paulo Coelho\n",
    "Price: 248\n",
    "```\n",
    "\n",
    "### Current Buffer"
   ]
  },
  {
   "cell_type": "code",
   "execution_count": 1,
   "metadata": {
    "collapsed": true
   },
   "outputs": [],
   "source": [
    "from abc import ABCMeta, abstractmethod\n",
    "\n",
    "\n",
    "class Book:\n",
    "    \n",
    "    __metaclass__ = ABCMeta\n",
    "    \n",
    "    def __init__(self, title, author):\n",
    "        self.title = title\n",
    "        self.author = author   \n",
    "        \n",
    "    @abstractmethod\n",
    "    def display(): pass"
   ]
  },
  {
   "cell_type": "code",
   "execution_count": 2,
   "metadata": {
    "collapsed": true
   },
   "outputs": [],
   "source": [
    "#Write MyBook class\n",
    "class MyBook(Book):\n",
    "    \n",
    "    def __init__(self, title, author, price):\n",
    "        Book.__init__(self, title, author)\n",
    "        self.price = price\n",
    "        \n",
    "    def display(self):\n",
    "        print 'Title:', self.title\n",
    "        print 'Author:', self.author\n",
    "        print 'Price:', self.price"
   ]
  },
  {
   "cell_type": "code",
   "execution_count": 4,
   "metadata": {
    "collapsed": false
   },
   "outputs": [
    {
     "name": "stdout",
     "output_type": "stream",
     "text": [
      "The Alchemist\n",
      "Paulo Coelho\n",
      "24.8\n",
      "Title: The Alchemist\n",
      "Author: Paulo Coelho\n",
      "Price: 24.8\n"
     ]
    }
   ],
   "source": [
    "title = raw_input().strip()\n",
    "author = raw_input().strip()\n",
    "price = float(raw_input().strip())\n",
    "\n",
    "new_novel = MyBook(title, author, price)\n",
    "new_novel.display()"
   ]
  }
 ],
 "metadata": {
  "kernelspec": {
   "display_name": "Python 2",
   "language": "python",
   "name": "python2"
  },
  "language_info": {
   "codemirror_mode": {
    "name": "ipython",
    "version": 2
   },
   "file_extension": ".py",
   "mimetype": "text/x-python",
   "name": "python",
   "nbconvert_exporter": "python",
   "pygments_lexer": "ipython2",
   "version": "2.7.6"
  }
 },
 "nbformat": 4,
 "nbformat_minor": 0
}
