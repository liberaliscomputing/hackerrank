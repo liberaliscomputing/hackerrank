{
 "cells": [
  {
   "cell_type": "markdown",
   "metadata": {},
   "source": [
    "## Day-17: More Exceptions\n",
    "\n",
    "### Objective \n",
    "Yesterday's challenge taught you to manage exceptional situations by using *try* and *catch* blocks. In today's challenge, you're going to practice throwing and propagating an exception. Check out the [Tutorial](https://www.hackerrank.com/challenges/30-more-exceptions/tutorial) tab for learning materials and an instructional video!\n",
    "\n",
    "### Task\n",
    "Write a *Calculator* class with a single method: `int power(int, int)`. The *power* method takes two integers, *n* and *p*, as parameters and returns the integer result of `n**p`. If either *n* or *p* is negative, then the method must throw an exception with the message: `n and p should be non-negative`.\n",
    "\n",
    "**Note:** Do not use an access modifier (e.g.: public) in the declaration for your *Calculator* class.\n",
    "\n",
    "### Input Format\n",
    "Input from stdin is handled for you by the locked stub code in your editor. The first line contains an integer, *T*, the number of test cases. Each of the *T* subsequent lines describes a test case in *2* space-separated integers denoting *n* and *p*, respectively.\n",
    "\n",
    "### Constraints\n",
    "+ No Test Case will result in overflow for correctly written code.\n",
    "\n",
    "### Output Format\n",
    "Output to stdout is handled for you by the locked stub code in your editor. There are *T* lines of output, where each line contains the result of `N**P` as calculated by your *Calculator* class' power method.\n",
    "\n",
    "### Sample Input\n",
    "```python\n",
    "4\n",
    "3 5\n",
    "2 4\n",
    "-1 -2\n",
    "-1 3\n",
    "```\n",
    "\n",
    "### Sample Output\n",
    "```python\n",
    "243\n",
    "16\n",
    "n and p should be non-negative\n",
    "n and p should be non-negative\n",
    "```\n",
    "\n",
    "### Explanation\n",
    "`T = 4`  \n",
    "*T0*: *3* and *5* are positive, so *power* returns the result of `3**5`, which is *243*.  \n",
    "*T1*: *2* and *4* are positive, so *power* returns the result of `2**4`, which is *16*.   \n",
    "*T2*: Both inputs (*-1* and *-2*) are negative, so *power* throws an exception and `n and p should be non-negative` is printed.  \n",
    "*T3*: One of the inputs (*-1*) is negative, so *power* throws an exception and `n and p should be non-negative` is printed.\n",
    "\n",
    "### Current Buffer"
   ]
  },
  {
   "cell_type": "code",
   "execution_count": 1,
   "metadata": {
    "collapsed": true
   },
   "outputs": [],
   "source": [
    "#Write your code here\n",
    "class Calculator(object):\n",
    "    \n",
    "    def power(self, n, p):\n",
    "        if n < 0 or p < 0:\n",
    "            raise Exception('n and p should be non-negative')\n",
    "        else:\n",
    "            return n**p "
   ]
  },
  {
   "cell_type": "code",
   "execution_count": 3,
   "metadata": {
    "collapsed": false
   },
   "outputs": [
    {
     "name": "stdout",
     "output_type": "stream",
     "text": [
      "4\n",
      "3 5\n",
      "243\n",
      "2 4\n",
      "16\n",
      "-1 -2\n",
      "n and p should be non-negative\n",
      "-1 3\n",
      "n and p should be non-negative\n"
     ]
    }
   ],
   "source": [
    "calc = Calculator()\n",
    "T = int(raw_input().strip())\n",
    "\n",
    "for i in range(T):\n",
    "    n, p = map(int, raw_input().strip().split())\n",
    "    \n",
    "    try:\n",
    "        ans = calc.power(n, p)\n",
    "        print ans\n",
    "    except Exception as e:\n",
    "        print e"
   ]
  }
 ],
 "metadata": {
  "kernelspec": {
   "display_name": "Python 2",
   "language": "python",
   "name": "python2"
  },
  "language_info": {
   "codemirror_mode": {
    "name": "ipython",
    "version": 2
   },
   "file_extension": ".py",
   "mimetype": "text/x-python",
   "name": "python",
   "nbconvert_exporter": "python",
   "pygments_lexer": "ipython2",
   "version": "2.7.6"
  }
 },
 "nbformat": 4,
 "nbformat_minor": 0
}
