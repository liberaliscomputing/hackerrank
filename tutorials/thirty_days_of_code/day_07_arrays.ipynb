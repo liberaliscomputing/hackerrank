{
 "cells": [
  {
   "cell_type": "markdown",
   "metadata": {},
   "source": [
    "## Day-07: Arrays\n",
    "\n",
    "### Objective\n",
    "Today, we're learning about the Array data structure. Check out the [Tutorial](https://www.hackerrank.com/challenges/30-arrays/tutorial) tab for learning materials and an instructional video!\n",
    "\n",
    "### Task \n",
    "Given an array, *A*, of *N* integers, print *A*'s elements in *reverse* order as a single line of space-separated numbers.\n",
    "\n",
    "### Input Format\n",
    "The first line contains an integer, *N* (the size of our array). \n",
    "The second line contains *N* space-separated integers describing array *A*'s elements.\n",
    "\n",
    "### Constraints\n",
    "+ `1 <= N <= 1000`\n",
    "+ `1 <= Ai <= 10000`, where *Ai* is the *ith* integer in the array.\n",
    "\n",
    "### Output Format\n",
    "Print the elements of array *A* in reverse order as a single line of space-separated numbers.\n",
    "\n",
    "### Sample Input\n",
    "```python\n",
    "4\n",
    "1 4 3 2\n",
    "```\n",
    "\n",
    "### Sample Output\n",
    "```python\n",
    "2 3 4 1\n",
    "```"
   ]
  },
  {
   "cell_type": "code",
   "execution_count": 8,
   "metadata": {
    "collapsed": false
   },
   "outputs": [
    {
     "name": "stdout",
     "output_type": "stream",
     "text": [
      "4\n",
      "1 4 3 2\n",
      "2 3 4 1\n"
     ]
    }
   ],
   "source": [
    "#!/bin/python\n",
    "\n",
    "import sys\n",
    "\n",
    "\n",
    "n = int(raw_input().strip())\n",
    "arr = map(int, raw_input().strip().split())\n",
    "\n",
    "for i in arr[::-1]:\n",
    "    print i,"
   ]
  }
 ],
 "metadata": {
  "kernelspec": {
   "display_name": "Python 2",
   "language": "python",
   "name": "python2"
  },
  "language_info": {
   "codemirror_mode": {
    "name": "ipython",
    "version": 2
   },
   "file_extension": ".py",
   "mimetype": "text/x-python",
   "name": "python",
   "nbconvert_exporter": "python",
   "pygments_lexer": "ipython2",
   "version": "2.7.6"
  }
 },
 "nbformat": 4,
 "nbformat_minor": 0
}
