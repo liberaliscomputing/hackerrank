{
 "cells": [
  {
   "cell_type": "markdown",
   "metadata": {},
   "source": [
    "## Day-03: Intro to Conditional Statements\n",
    "\n",
    "### Objective\n",
    "In this challenge, we're getting started with conditional statements. Check out the [Tutorial](https://www.hackerrank.com/challenges/30-conditional-statements/tutorial) tab for learning materials and an instructional video!\n",
    "\n",
    "### Task \n",
    "Given an integer, *n*, perform the following conditional actions:\n",
    "+ If *n* is odd, print `Weird`\n",
    "+ If *n* is even and in the inclusive range of *2* to *5*, print `Not Weird`\n",
    "+ If *n* is even and in the inclusive range of *6* to *20*, print `Weird`\n",
    "+ If *n* is even and greater than *20*, print `Not Weird`  \n",
    "\n",
    "Complete the stub code provided in your editor to print whether or not *n* is weird.\n",
    "\n",
    "### Input Format\n",
    "A single line containing a positive integer, *n*.\n",
    "\n",
    "### Constraints\n",
    "+ `1 <= n <= 100`\n",
    "\n",
    "### Output Format\n",
    "Print `Weird` if the number is weird; otherwise, print `Not Weird`.\n",
    "\n",
    "### Sample Input\n",
    "```python\n",
    "3\n",
    "24\n",
    "```\n",
    "\n",
    "### Sample Output\n",
    "Sample Case 0: `n = 3`  \n",
    "*n* is odd and odd numbers are weird, so we print `Weird`.\n",
    "\n",
    "Sample Case 1: `n = 24`  \n",
    "`n > 20` and *n* is even, so it isn't weird. Thus, we print `Not Weird`.\n",
    "\n",
    "### Current Buffer"
   ]
  },
  {
   "cell_type": "code",
   "execution_count": 1,
   "metadata": {
    "collapsed": false
   },
   "outputs": [
    {
     "name": "stdout",
     "output_type": "stream",
     "text": [
      "3\n",
      "Weird\n"
     ]
    }
   ],
   "source": [
    "#!/bin/python\n",
    "\n",
    "import sys\n",
    "\n",
    "\n",
    "N = int(raw_input().strip())\n",
    "\n",
    "if N % 2:\n",
    "    print 'Weird'\n",
    "else:\n",
    "    if N >= 2 and N <=5:\n",
    "        print 'Not Weird'\n",
    "    elif N >= 6 and N <=20:\n",
    "        print 'Weird'\n",
    "    else:\n",
    "        print 'Not Weird'"
   ]
  }
 ],
 "metadata": {
  "kernelspec": {
   "display_name": "Python 2",
   "language": "python",
   "name": "python2"
  },
  "language_info": {
   "codemirror_mode": {
    "name": "ipython",
    "version": 2
   },
   "file_extension": ".py",
   "mimetype": "text/x-python",
   "name": "python",
   "nbconvert_exporter": "python",
   "pygments_lexer": "ipython2",
   "version": "2.7.6"
  }
 },
 "nbformat": 4,
 "nbformat_minor": 0
}
