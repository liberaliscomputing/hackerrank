{
 "cells": [
  {
   "cell_type": "markdown",
   "metadata": {},
   "source": [
    "## Day-08: Dictionaries and Maps\n",
    "\n",
    "### Objective\n",
    "Today, we're learning about Key-Value pair mappings using a *Map* or *Dictionary* data structure. Check out the [Tutorial](https://www.hackerrank.com/challenges/30-dictionaries-and-maps/tutorial) tab for learning materials and an instructional video!\n",
    "\n",
    "### Task \n",
    "Given *n* names and phone numbers, assemble a phone book that maps friends' names to their respective phone numbers. You will then be given an unknown number of names to query your phone book for. For each *name* queried, print the associated entry from your phone book on a new line in the form `name=phoneNumber`; if an entry for `name` is not found, print `Not found` instead.\n",
    "\n",
    "**Note:** Your phone book should be a Dictionary/Map/HashMap data structure.\n",
    "\n",
    "### Input Format\n",
    "The first line contains an integer, *n*, denoting the number of entries in the phone book. \n",
    "Each of the *n* subsequent lines describes an entry in the form of *2* space-separated values on a single line. The first value is a friend's name, and the second value is an -digit phone number.\n",
    "\n",
    "After the *n* lines of phone book entries, there are *an unknown number of lines of queries*. Each line (query) contains a *name* to look up, and you must continue reading lines until there is no more input.\n",
    "\n",
    "**Note:** Names consist of lowercase English alphabetic letters and are first names only.\n",
    "\n",
    "### Constraints\n",
    "+ `1 <= n <= 10**5`\n",
    "+ `1 <= queries <= 10**5`\n",
    "\n",
    "### Output Format\n",
    "On a new line for each query, print `Not found` if the name has no corresponding entry in the phone book; otherwise, print the full *name* and *phoneNumber* in the format `name=phoneNumber`.\n",
    "\n",
    "### Sample Input\n",
    "```python\n",
    "3\n",
    "sam 99912222\n",
    "tom 11122222\n",
    "harry 12299933\n",
    "sam\n",
    "edward\n",
    "harry\n",
    "```\n",
    "\n",
    "### Sample Output\n",
    "```python\n",
    "sam=99912222\n",
    "Not found\n",
    "harry=12299933\n",
    "```\n",
    "\n",
    "### Explanation\n",
    "We add the following `n = 3` *(Key, Value)* pairs to our map so it looks like this:\n",
    "```python\n",
    "phoneBook = {(sam, 99912222), (tom, 11122222), (harry, 12299933)}\n",
    "```\n",
    "\n",
    "We then process each query and print `key=value` if the queried *key* is found in the map; otherwise, we print `Not found`.\n",
    "\n",
    "Query 0: `sam` \n",
    "Sam is one of the keys in our dictionary, so we print `sam=99912222`.\n",
    "\n",
    "Query 1: `edward `\n",
    "Edward is not one of the keys in our dictionary, so we print `Not found`.\n",
    "\n",
    "Query 2: `harry` \n",
    "Harry is one of the keys in our dictionary, so we print `harry=12299933`.\n",
    "\n",
    "### Current Buffer"
   ]
  },
  {
   "cell_type": "code",
   "execution_count": 1,
   "metadata": {
    "collapsed": false
   },
   "outputs": [
    {
     "name": "stdout",
     "output_type": "stream",
     "text": [
      "3\n",
      "sam 99912222\n",
      "tom 11122222\n",
      "harry 12299933\n",
      "sam\n",
      "sam=99912222\n",
      "edward\n",
      "Not found\n",
      "harry\n",
      "harry=12299933\n",
      "\n"
     ]
    }
   ],
   "source": [
    "# Enter your code here. Read input from STDIN. Print output to STDOUT\n",
    "n = int(raw_input().strip())\n",
    "phone_book = {}\n",
    "\n",
    "for _ in range(n):\n",
    "    name, phone_number = raw_input().strip().split()\n",
    "    phone_book[name] = phone_number\n",
    "    \n",
    "while True:\n",
    "    query = raw_input().strip()\n",
    "    \n",
    "    if len(query) < 1:\n",
    "        break\n",
    "    \n",
    "    if phone_book.get(query):\n",
    "        print '{}={}'.format(query, phone_book[query])\n",
    "    else:\n",
    "        print 'Not found'"
   ]
  }
 ],
 "metadata": {
  "kernelspec": {
   "display_name": "Python 2",
   "language": "python",
   "name": "python2"
  },
  "language_info": {
   "codemirror_mode": {
    "name": "ipython",
    "version": 2
   },
   "file_extension": ".py",
   "mimetype": "text/x-python",
   "name": "python",
   "nbconvert_exporter": "python",
   "pygments_lexer": "ipython2",
   "version": "2.7.6"
  }
 },
 "nbformat": 4,
 "nbformat_minor": 0
}
