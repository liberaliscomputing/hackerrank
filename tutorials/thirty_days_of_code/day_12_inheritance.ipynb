{
 "cells": [
  {
   "cell_type": "markdown",
   "metadata": {},
   "source": [
    "## Day-12: Inheritance\n",
    "\n",
    "### Objective \n",
    "Today, we're delving into Inheritance. Check out the [Tutorial](https://www.hackerrank.com/challenges/30-inheritance/tutorial) tab for learning materials and an instructional video!\n",
    "\n",
    "### Task \n",
    "You are given two classes, *Person* and *Student*, where *Person* is the base class and *Student* is the derived class. Completed code for *Person* and a declaration for *Student* are provided for you in the editor. Observe that *Student* inherits all the properties of *Person*.\n",
    "\n",
    "Complete the *Student* class by writing the following:\n",
    "\n",
    "+ A *Student* class constructor, which has *4* parameters:\n",
    "    1. A string, *firstName*.\n",
    "    2. A string, *lastName*.\n",
    "    3. An integer, *id*.\n",
    "    4. An integer array (or vector) of test scores, *scores*.\n",
    "+ A *char calculate()* method that calculates a Student object's average and returns the grade character representative of their calculated average:\n",
    "```\n",
    "# Grading Scale\n",
    "| Letter | Average (m)    |\n",
    "| ------ | -------------- |\n",
    "| O      | 90 <= m <= 100 |\n",
    "| E      | 80 <= m <   90 |\n",
    "| A      | 70 <= m <   80 |\n",
    "| P      | 55 <= m <   70 |\n",
    "| D      | 40 <= m <   55 |\n",
    "| T      |       m <   40 |\n",
    "```\n",
    "\n",
    "### Input Format\n",
    "The locked stub code in your editor calls your *Student* class constructor and passes it the necessary arguments. It also calls the *calculate* method (which takes no arguments).\n",
    "\n",
    "You are not responsible for reading the following input from stdin:  \n",
    "The first line contains *firstName*, *lastName*, and *id*, respectively. The second line contains the number of test scores. The third line of space-separated integers describes *scores*.\n",
    "\n",
    "### Constraints\n",
    "+ `4 <= |firstName|, |lastName| <= 10` \n",
    "+ `|id| = 7`\n",
    "+ `0 <= score, average <= 100`\n",
    "\n",
    "### Output Format\n",
    "*This is handled by the locked stub code in your editor.* Your output will be correct if your *Student* class constructor and *calculate()* method are properly implemented.\n",
    "\n",
    "### Sample Input\n",
    "```python\n",
    "Heraldo Memelli 8135627\n",
    "2\n",
    "100 80\n",
    "```\n",
    "\n",
    "### Sample Output\n",
    "```python\n",
    "Name: Memelli, Heraldo\n",
    "ID: 8135627\n",
    "Grade: O\n",
    "```\n",
    "\n",
    "### Explanation\n",
    "This student had *2* scores to average: *80* and *100*. The student's average grade is `(100 + 80)/2 = 90`. An average grade of *90* corresponds to the letter grade *O*, so our *calculate()* method should return the character `'O'`.\n",
    "\n",
    "### Current Buffer"
   ]
  },
  {
   "cell_type": "code",
   "execution_count": 1,
   "metadata": {
    "collapsed": true
   },
   "outputs": [],
   "source": [
    "class Person(object):\n",
    "    \n",
    "    def __init__(self, first_name, last_name, id_num):\n",
    "        self.first_name = first_name\n",
    "        self.last_name = last_name\n",
    "        self.id_num = id_num\n",
    "        \n",
    "    def print_person(self):\n",
    "        print 'Name:', self.last_name + ',', self.first_name\n",
    "        print 'ID:', self.id_num"
   ]
  },
  {
   "cell_type": "code",
   "execution_count": 5,
   "metadata": {
    "collapsed": false
   },
   "outputs": [],
   "source": [
    "class Student(Person):\n",
    "    \n",
    "    def __init__(self, first_name, last_name, id_num, scores):\n",
    "        Person.__init__(self, first_name, last_name, id_num)\n",
    "        self.scores = scores\n",
    "\n",
    "    def calculate(self):\n",
    "        mean = sum(self.scores)/len(self.scores)\n",
    "        grade = ''\n",
    "\n",
    "        if mean >= 90:\n",
    "            grade = 'O'\n",
    "        elif mean >= 80:\n",
    "            grade = 'E'\n",
    "        elif mean >= 70:\n",
    "            grade = 'A'\n",
    "        elif mean >= 55:\n",
    "            grade = 'P'\n",
    "        elif mean >= 40:\n",
    "            grade = 'D'\n",
    "        else:\n",
    "            grade = 'T'\n",
    "\n",
    "        return grade"
   ]
  },
  {
   "cell_type": "code",
   "execution_count": 6,
   "metadata": {
    "collapsed": false
   },
   "outputs": [
    {
     "name": "stdout",
     "output_type": "stream",
     "text": [
      "Heraldo Memelli 8135627\n",
      "80 100\n",
      "Name: Memelli, Heraldo\n",
      "ID: 8135627\n",
      "Grade: O\n"
     ]
    }
   ],
   "source": [
    "line = raw_input().strip().split()\n",
    "first_name = line[0]\n",
    "last_name = line[1]\n",
    "id_num = line[2]\n",
    "\n",
    "scores = map(int, raw_input().split())\n",
    "\n",
    "student = Student(first_name, last_name, id_num, scores)\n",
    "student.print_person()\n",
    "print 'Grade:', student.calculate()"
   ]
  }
 ],
 "metadata": {
  "kernelspec": {
   "display_name": "Python 2",
   "language": "python",
   "name": "python2"
  },
  "language_info": {
   "codemirror_mode": {
    "name": "ipython",
    "version": 2
   },
   "file_extension": ".py",
   "mimetype": "text/x-python",
   "name": "python",
   "nbconvert_exporter": "python",
   "pygments_lexer": "ipython2",
   "version": "2.7.6"
  }
 },
 "nbformat": 4,
 "nbformat_minor": 0
}
