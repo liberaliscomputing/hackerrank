{
 "cells": [
  {
   "cell_type": "markdown",
   "metadata": {},
   "source": [
    "## Day-15: Linked List\n",
    "\n",
    "### Objective\n",
    "Today we're working with *Linked Lists*. Check out the [Tutorial](https://www.hackerrank.com/challenges/30-linked-list/tutorial) tab for learning materials and an instructional video!\n",
    "\n",
    "---  \n",
    "\n",
    "A *Node* class is provided for you in the editor. A *Node* object has an integer data field, *data*, and a *Node* instance pointer, *next*, pointing to another node (i.e.: the next node in a list).\n",
    "\n",
    "A Node *insert* function is also declared in your editor. It has two parameters: a pointer, *head*, pointing to the first node of a linked list, and an integer *data* value that must be added to the end of the list as a new *Node* object.\n",
    "\n",
    "\n",
    "### Task \n",
    "Complete the *insert* function in your editor so that it creates a new *Node* (pass *data* as the *Node* constructor argument) and inserts it at the tail of the linked list referenced by the *head* parameter. Once the new node is added, return the reference to the *head* node.\n",
    "\n",
    "**Note:** If the *head* argument passed to the *insert* function is *null*, then the initial list is empty.\n",
    "\n",
    "### Input Format\n",
    "The *insert* function has *2* parameters: a pointer to a *Node* named *head*, and an integer value, *data*. \n",
    "The constructor for *Node* has *1* parameter: an integer value for the *data* field.\n",
    "\n",
    "You do not need to read anything from stdin.\n",
    "\n",
    "### Output Format\n",
    "Your *insert* function should return a reference to the *head* node of the linked list.\n",
    "\n",
    "### Sample Input\n",
    "The following input is handled for you by the locked code in the editor: \n",
    "The first line contains *T*, the number of test cases. \n",
    "The *T* subsequent lines of test cases each contain an integer to be inserted at the list's tail.\n",
    "```python\n",
    "4\n",
    "2\n",
    "3\n",
    "4\n",
    "1\n",
    "```\n",
    "\n",
    "### Sample Output\n",
    "The locked code in your editor prints the ordered data values for each element in your list as a single line of space-separated integers:\n",
    "\n",
    "```python\n",
    "2 3 4 1\n",
    "```\n",
    "\n",
    "### Explanation\n",
    "`T = 4`, so the locked code in the editor will be inserting *4* nodes. \n",
    "The list is initially empty, so *head* is null; accounting for this, our code returns a new node containing the data value *2* as the *head* of our list. We then create and insert nodes *3*, *4*, and *1* at the tail of our list. The resulting list returned by the last call to *insert* is *[2, 3, 4, 1]*, so the printed output is `2 3 4 1`.\n",
    "\n",
    "### Current Buffer"
   ]
  },
  {
   "cell_type": "code",
   "execution_count": 1,
   "metadata": {
    "collapsed": false
   },
   "outputs": [
    {
     "name": "stdout",
     "output_type": "stream",
     "text": [
      "4\n",
      "2\n",
      "3\n",
      "4\n",
      "1\n",
      "2 3 4 1\n"
     ]
    }
   ],
   "source": [
    "class Node:\n",
    "    def __init__(self, data):\n",
    "        self.data = data\n",
    "        self.next = None\n",
    "        \n",
    "class Solution:\n",
    "    def display(self, head):\n",
    "        curr = head\n",
    "        while curr:\n",
    "            print curr.data,\n",
    "            curr = curr.next\n",
    "            \n",
    "    def insert(self, head, data):\n",
    "        #Complete this method\n",
    "        node = Node(data)\n",
    "        if not head:\n",
    "            return node\n",
    "\n",
    "        curr = head       \n",
    "        while curr.next:\n",
    "            curr = curr.next\n",
    "            \n",
    "        curr.next = node        \n",
    "        return head\n",
    "        \n",
    "\n",
    "linked_list = Solution()\n",
    "T = int(raw_input().strip())\n",
    "head = None\n",
    "\n",
    "for i in range(T):\n",
    "    data = int(raw_input().strip())\n",
    "    head = linked_list.insert(head, data)   \n",
    "    \n",
    "linked_list.display(head)"
   ]
  }
 ],
 "metadata": {
  "kernelspec": {
   "display_name": "Python 2",
   "language": "python",
   "name": "python2"
  },
  "language_info": {
   "codemirror_mode": {
    "name": "ipython",
    "version": 2
   },
   "file_extension": ".py",
   "mimetype": "text/x-python",
   "name": "python",
   "nbconvert_exporter": "python",
   "pygments_lexer": "ipython2",
   "version": "2.7.6"
  }
 },
 "nbformat": 4,
 "nbformat_minor": 0
}
