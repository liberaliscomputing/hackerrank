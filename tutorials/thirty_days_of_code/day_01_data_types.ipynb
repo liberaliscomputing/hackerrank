{
 "cells": [
  {
   "cell_type": "markdown",
   "metadata": {},
   "source": [
    "## Day-01: Data Types\n",
    "\n",
    "### Objective\n",
    "Today, we're discussing data types. Check out the [Tutorial](https://www.hackerrank.com/challenges/30-data-types/tutorial) tab for learning materials and an instructional video!\n",
    "\n",
    "### Task \n",
    "Complete the code in the editor below. The variables *i*, *d*, and *s* are already declared and initialized for you. You must:\n",
    "\n",
    "1. Declare *3* variables: one of type *int*, one of type *double*, and one of type *String*.\n",
    "2. Read *3* lines of input from stdin (according to the sequence given in the *Input Format* section below) and initialize your *3* variables.\n",
    "3. Use the *+* operator to perform the following operations: \n",
    "    1. Print the sum of *i* plus your int variable on a new line.\n",
    "    2. Print the sum of *d* plus your double variable to a scale of one decimal place on a new line.\n",
    "    3. Concatenate *s* with the string you read as input and print the result on a new line.\n",
    "\n",
    "**Note:** If you are using a language that doesn't support using *+* for string concatenation (e.g.: C), you can just print one variable immediately following the other on the same line. The string provided in your editor *must* be printed first, immediately followed by the string you read as input.\n",
    "\n",
    "### Input Format\n",
    "The first line contains an integer that you must sum with *i*. \n",
    "The second line contains a double that you must sum with *d*. \n",
    "The third line contains a string that you must concatenate with *s*.\n",
    "\n",
    "### Output Format\n",
    "Print the sum of both integers on the first line, the sum of both doubles (scaled to *1* decimal place) on the second line, and then the two concatenated strings on the third line.\n",
    "\n",
    "### Sample Input\n",
    "```python\n",
    "12\n",
    "4.0\n",
    "is the best place to learn and practice coding!\n",
    "```\n",
    "\n",
    "### Sample Output\n",
    "```python\n",
    "16\n",
    "8.0\n",
    "HackerRank is the best place to learn and practice coding!\n",
    "```\n",
    "\n",
    "### Explanation\n",
    "When we sum the integers *4* and *12*, we get the integer *16*. \n",
    "When we sum the floating-point numbers *4.0* and *4.0*, we get *8.0*. \n",
    "When we concatenate `HackerRank` with `is the best place to learn and practice coding!`, we get `HackerRank is the best place to learn and practice coding!`.  \n",
    "\n",
    "**You will not pass this challenge if you attempt to assign the *Sample Case* values to your variables instead of following the instructions above and reading input from stdin.**\n",
    "\n",
    "### Current Buffer"
   ]
  },
  {
   "cell_type": "code",
   "execution_count": 1,
   "metadata": {
    "collapsed": true
   },
   "outputs": [],
   "source": [
    "i = 4\n",
    "d = 4.0\n",
    "s = 'HackerRank '"
   ]
  },
  {
   "cell_type": "code",
   "execution_count": 2,
   "metadata": {
    "collapsed": false
   },
   "outputs": [
    {
     "name": "stdout",
     "output_type": "stream",
     "text": [
      "12\n",
      "4.0\n",
      "is the best place to learn and practice coding!\n",
      "16\n",
      "8.0\n",
      "HackerRank is the best place to learn and practice coding!\n"
     ]
    }
   ],
   "source": [
    "# Declare second integer, double, and String variables.\n",
    "# Read and save an integer, double, and String to your variables.\n",
    "j = int(raw_input())\n",
    "e = float(raw_input())\n",
    "t = raw_input()\n",
    "\n",
    "# Print the sum of both integer variables on a new line.\n",
    "print i + j\n",
    "\n",
    "# Print the sum of the double variables on a new line.\n",
    "print e + d\n",
    "\n",
    "# Concatenate and print the String variables on a new line\n",
    "# The 's' variable above should be printed first.\n",
    "print s + t"
   ]
  }
 ],
 "metadata": {
  "kernelspec": {
   "display_name": "Python 2",
   "language": "python",
   "name": "python2"
  },
  "language_info": {
   "codemirror_mode": {
    "name": "ipython",
    "version": 2
   },
   "file_extension": ".py",
   "mimetype": "text/x-python",
   "name": "python",
   "nbconvert_exporter": "python",
   "pygments_lexer": "ipython2",
   "version": "2.7.6"
  }
 },
 "nbformat": 4,
 "nbformat_minor": 0
}
