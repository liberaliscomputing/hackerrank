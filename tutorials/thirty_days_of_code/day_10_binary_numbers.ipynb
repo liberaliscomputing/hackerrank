{
 "cells": [
  {
   "cell_type": "markdown",
   "metadata": {},
   "source": [
    "## Day-10: Binary Numbers\n",
    "\n",
    "### Objective\n",
    "Today, we're working with binary numbers. Check out the [Tutorial](https://www.hackerrank.com/challenges/30-binary-numbers/tutorial) tab for learning materials and an instructional video!\n",
    "\n",
    "### Task \n",
    "Given a base-*10* integer, *n*, convert it to binary (base-*2*). Then find and print the base-*10* integer denoting the maximum number of consecutive *1*'s in *n*'s binary representation.\n",
    "\n",
    "### Input Format\n",
    "A single integer, *n*.\n",
    "\n",
    "### Constraints\n",
    "+ `1 <= n <= 10**6`\n",
    "\n",
    "### Output Format\n",
    "Print a single base-*10* integer denoting the maximum number of consecutive *1*'s in the binary representation of *n*.\n",
    "\n",
    "### Sample 1\n",
    "```python\n",
    "5\n",
    "\n",
    "1\n",
    "```\n",
    "\n",
    "### Sample 2\n",
    "```python\n",
    "13\n",
    "\n",
    "2\n",
    "```\n",
    "\n",
    "### Explanation\n",
    "Sample Case 1: \n",
    "The binary representation of *5* is *101*, so the maximum number of consecutive *1*'s is *1*.\n",
    "\n",
    "Sample Case 2: \n",
    "The binary representation of *13* is *1101*, so the maximum number of consecutive *1*'s is *2*.\n",
    "\n",
    "### Current Buffer"
   ]
  },
  {
   "cell_type": "code",
   "execution_count": 2,
   "metadata": {
    "collapsed": false
   },
   "outputs": [
    {
     "name": "stdout",
     "output_type": "stream",
     "text": [
      "439\n",
      "3\n"
     ]
    }
   ],
   "source": [
    "#!/bin/python\n",
    "\n",
    "import sys\n",
    "\n",
    "\n",
    "n = int(raw_input().strip())\n",
    "binary = ''\n",
    "\n",
    "while n:\n",
    "    quotient = str(n%2)\n",
    "    binary = quotient + binary\n",
    "    n /= 2\n",
    "\n",
    "ones, maxn = 0, 0\n",
    "\n",
    "for i in binary:\n",
    "    if i == '1':\n",
    "        ones += 1\n",
    "    else:\n",
    "        maxn = max(ones, maxn)\n",
    "        ones = 0\n",
    "        \n",
    "print max(ones, maxn)"
   ]
  }
 ],
 "metadata": {
  "kernelspec": {
   "display_name": "Python 2",
   "language": "python",
   "name": "python2"
  },
  "language_info": {
   "codemirror_mode": {
    "name": "ipython",
    "version": 2
   },
   "file_extension": ".py",
   "mimetype": "text/x-python",
   "name": "python",
   "nbconvert_exporter": "python",
   "pygments_lexer": "ipython2",
   "version": "2.7.6"
  }
 },
 "nbformat": 4,
 "nbformat_minor": 0
}
