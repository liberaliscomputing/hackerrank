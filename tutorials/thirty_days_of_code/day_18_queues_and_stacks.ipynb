{
 "cells": [
  {
   "cell_type": "markdown",
   "metadata": {},
   "source": [
    "## Day-18: Queues and Stacks\n",
    "\n",
    "### Objective\n",
    "Welcome to Day 18! Today we're learning about Stacks and Queues. Check out the [Tutorial](https://www.hackerrank.com/challenges/30-queues-stacks/tutorial) tab for learning materials and an instructional video!\n",
    "\n",
    "### Task\n",
    "A *palindrome* is a word, phrase, number, or other sequence of characters which reads the same backwards and forwards. Can you determine if a given string, *s*, is a palindrome?\n",
    "\n",
    "To solve this challenge, we must first take each character in *s*, *enqueue* it in a *queue*, and also *push* that same character onto a *stack*. Once that's done, we must *dequeue* the first character from the *queue* and *pop* the top character off the *stack*, then compare the two characters to see if they are the same; as long as the characters match, we continue dequeueing, popping, and comparing each character until our containers are empty (a non-match means *s* isn't a palindrome).\n",
    "\n",
    "Write the following declarations and implementations:\n",
    "\n",
    "1. Two instance variables: one for your *stack*, and one for your *queue*.\n",
    "2. A `void pushCharacter(char ch)` method that pushes a character onto a stack.\n",
    "3. A `void enqueueCharacter(char ch)` method that enqueues a character in the *queue* instance variable.\n",
    "4. A `char popCharacter()` method that pops and returns the character at the top of the *stack* instance variable.\n",
    "5. A `char dequeueCharacter()` method that dequeues and returns the first character in the *queue* instance variable.\n",
    "\n",
    "### Input Format\n",
    "You *do not* need to read anything from stdin. The locked stub code in your editor reads a single line containing string *s*. It then calls the methods specified above to pass each character to your instance variables.\n",
    "\n",
    "### Constraints\n",
    "+ *s* is composed of lowercase English letters.\n",
    "\n",
    "### Output Format\n",
    "You are *not* responsible for printing any output to stdout.  \n",
    "If your code is correctly written and *s* is a palindrome, the locked stub code will print `The word, s, is a palindrome.`; otherwise, it will print `The word, s, is not a palindrome.`\n",
    "\n",
    "### Sample Input\n",
    "```python\n",
    "racecar\n",
    "```\n",
    "\n",
    "### Sample Output\n",
    "```python\n",
    "The word, racecar, is a palindrome.\n",
    "```\n",
    "\n",
    "### Current Buffer"
   ]
  },
  {
   "cell_type": "code",
   "execution_count": 3,
   "metadata": {
    "collapsed": true
   },
   "outputs": [],
   "source": [
    "class Solution:\n",
    "    # Write your code here\n",
    "    def __init__(self):\n",
    "        self.stack = []\n",
    "        self.queue = []\n",
    "        \n",
    "    def push(self, char):\n",
    "        self.stack.append(char)\n",
    "    \n",
    "    def pop(self):\n",
    "        char = self.stack[-1]\n",
    "        self.stack.pop()\n",
    "        return char\n",
    "    \n",
    "    def enqueue(self, char):\n",
    "        self.queue.append(char)\n",
    "               \n",
    "    def dequeue(self):\n",
    "        char = self.queue[0]\n",
    "        self.queue.pop(0)\n",
    "        return char"
   ]
  },
  {
   "cell_type": "code",
   "execution_count": 4,
   "metadata": {
    "collapsed": false
   },
   "outputs": [
    {
     "name": "stdout",
     "output_type": "stream",
     "text": [
      "racecar\n",
      "The word, racecar, is a palindrome.\n"
     ]
    }
   ],
   "source": [
    "# Read the string s\n",
    "s = raw_input().strip()\n",
    "\n",
    "# Create the Solution class object\n",
    "obj = Solution()   \n",
    "\n",
    "# Push and enqueue all the characters of string s to stack\n",
    "l = len(s)\n",
    "for i in range(l):\n",
    "    obj.push(s[i])\n",
    "    obj.enqueue(s[i])\n",
    "    \n",
    "is_palindrome = True\n",
    "\n",
    "'''\n",
    "Pop the top character from stack\n",
    "Dequeue the first character from queue\n",
    "Compare both the characters\n",
    "''' \n",
    "\n",
    "for i in range(l/2):\n",
    "    if obj.pop() != obj.dequeue():\n",
    "        is_palindrome = False\n",
    "        break\n",
    "        \n",
    "# Finally print whether string s is palindrome or not.\n",
    "if is_palindrome:\n",
    "    print 'The word, {}, is a palindrome.'.format(s)\n",
    "else:\n",
    "    print 'The word, {}, is not a palindrome.'.format(s)"
   ]
  }
 ],
 "metadata": {
  "kernelspec": {
   "display_name": "Python 2",
   "language": "python",
   "name": "python2"
  },
  "language_info": {
   "codemirror_mode": {
    "name": "ipython",
    "version": 2
   },
   "file_extension": ".py",
   "mimetype": "text/x-python",
   "name": "python",
   "nbconvert_exporter": "python",
   "pygments_lexer": "ipython2",
   "version": "2.7.6"
  }
 },
 "nbformat": 4,
 "nbformat_minor": 0
}
