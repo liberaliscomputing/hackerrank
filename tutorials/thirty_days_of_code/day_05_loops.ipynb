{
 "cells": [
  {
   "cell_type": "markdown",
   "metadata": {},
   "source": [
    "## Day-05: Loops\n",
    "\n",
    "### Objective\n",
    "In this challenge, we're going to use loops to help us do some simple math. Check out the [Tutorial](https://www.hackerrank.com/challenges/30-loops/tutorial) tab to learn more.\n",
    "\n",
    "### Task \n",
    "Given an integer, *n*, print its first *10* multiples. Each multiple *n x i* (where `1 <= i <= 10`) should be printed on a new line in the form: `n x i = result`.\n",
    "\n",
    "### Input Format\n",
    "A single integer, *n*.\n",
    "\n",
    "### Constraints\n",
    "+ `2 <= T <= 20`\n",
    "\n",
    "### Output Format\n",
    "Print *10* lines of output; each line *i* (where `1 <= i <= 10`) contains the *result* of *n x i* in the form: \n",
    "`n x i = result`.\n",
    "\n",
    "### Sample Input\n",
    "```python\n",
    "2\n",
    "```\n",
    "\n",
    "### Sample Output\n",
    "```python\n",
    "2 x 1 = 2\n",
    "2 x 2 = 4\n",
    "2 x 3 = 6\n",
    "2 x 4 = 8\n",
    "2 x 5 = 10\n",
    "2 x 6 = 12\n",
    "2 x 7 = 14\n",
    "2 x 8 = 16\n",
    "2 x 9 = 18\n",
    "2 x 10 = 20\n",
    "```\n",
    "\n",
    "### Current Buffer"
   ]
  },
  {
   "cell_type": "code",
   "execution_count": 1,
   "metadata": {
    "collapsed": false
   },
   "outputs": [
    {
     "name": "stdout",
     "output_type": "stream",
     "text": [
      "2\n",
      "2 x 1 = 2\n",
      "2 x 2 = 4\n",
      "2 x 3 = 6\n",
      "2 x 4 = 8\n",
      "2 x 5 = 10\n",
      "2 x 6 = 12\n",
      "2 x 7 = 14\n",
      "2 x 8 = 16\n",
      "2 x 9 = 18\n",
      "2 x 10 = 20\n"
     ]
    }
   ],
   "source": [
    "#!/bin/python\n",
    "\n",
    "import sys\n",
    "\n",
    "\n",
    "n = int(raw_input().strip())\n",
    "\n",
    "for i in range(1, 11):\n",
    "    print '{} x {} = {}'.format(n, i, n*i)"
   ]
  }
 ],
 "metadata": {
  "kernelspec": {
   "display_name": "Python 2",
   "language": "python",
   "name": "python2"
  },
  "language_info": {
   "codemirror_mode": {
    "name": "ipython",
    "version": 2
   },
   "file_extension": ".py",
   "mimetype": "text/x-python",
   "name": "python",
   "nbconvert_exporter": "python",
   "pygments_lexer": "ipython2",
   "version": "2.7.6"
  }
 },
 "nbformat": 4,
 "nbformat_minor": 0
}
