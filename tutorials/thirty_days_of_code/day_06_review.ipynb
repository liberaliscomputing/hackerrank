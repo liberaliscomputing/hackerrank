{
 "cells": [
  {
   "cell_type": "markdown",
   "metadata": {},
   "source": [
    "## Day-06: Let's Review\n",
    "\n",
    "### Objective \n",
    "Today we're expanding our knowledge of Strings and combining it with what we've already learned about loops. Check out the [Tutorial](https://www.hackerrank.com/challenges/30-review-loop/tutorial) tab for learning materials and an instructional video!\n",
    "\n",
    "### Task \n",
    "Given a string, *S*, of length *N* that is indexed from *0* to `N - 1`, print its *even-indexed* and *odd-indexed* characters as *2* space-separated strings on a single line (see the *Sample* below for more detail).\n",
    "\n",
    "**Note:** *0* is considered to be an *even* index.\n",
    "\n",
    "### Input Format\n",
    "The first line contains an integer, *T* (the number of test cases). Each line *i* of the *T* subsequent lines contain a String, *S*.\n",
    "\n",
    "### Constraints\n",
    "+ `1 <= T <= 10`\n",
    "+ `2 <= lenght of S <= 10000`\n",
    "\n",
    "### Output Format\n",
    "For each String *Sj* (where `0 <= j <= T - 1`), print *Sj*'s *even-indexed* characters, followed by a space, followed by *Sj*'s *odd-indexed* characters. \n",
    "\n",
    "### Sample Input\n",
    "```python\n",
    "2\n",
    "Hacker\n",
    "Rank\n",
    "```\n",
    "\n",
    "### Sample Output\n",
    "```python\n",
    "Hce akr\n",
    "Rn ak\n",
    "```\n",
    "\n",
    "### Explanation\n",
    "Test Case 0: `S = 'Hacker'`\n",
    "```python\n",
    "S[0] = 'H'\n",
    "S[1] = 'a'\n",
    "S[2] = 'c'\n",
    "S[3] = 'k'\n",
    "S[4] = 'e'\n",
    "S[5] = 'r'\n",
    "```\n",
    "The *even* indices are *0*, *2*, and *4*, and the *odd* indices are *1*, *3*, and *5*. We then print *a single line* of *2* space-separated strings; the first string contains the ordered characters from *S*'s *even* indices (`Hce`), and the second string contains the ordered characters from *S*'s *odd* indices (`akr`).\n",
    "\n",
    "Test Case 1: `S = 'Rank'`\n",
    "```python\n",
    "S[0] = 'R'\n",
    "S[1] = 'a'\n",
    "S[2] = 'n'\n",
    "S[3] = 'k'\n",
    "```\n",
    "The *even* indices are *0* and *2*, and the *odd* indices are *1* and *3*. We then print *a single line* of *2* space-separated strings; the first string contains the ordered characters from *S*'s *even* indices (`Rn`), and the second string contains the ordered characters from *S*'s *odd* indices (`ak`).\n",
    "\n",
    "### Current Buffer"
   ]
  },
  {
   "cell_type": "code",
   "execution_count": 1,
   "metadata": {
    "collapsed": false
   },
   "outputs": [
    {
     "name": "stdout",
     "output_type": "stream",
     "text": [
      "2\n",
      "Hacker\n",
      "Hce akr\n",
      "Rank\n",
      "Rn ak\n"
     ]
    }
   ],
   "source": [
    "# Enter your code here. Read input from STDIN. Print output to STDOUT\n",
    "T = int(raw_input().strip())\n",
    "\n",
    "for _ in range(T):\n",
    "    S = raw_input().strip()\n",
    "    even, odd = '', ''\n",
    "    \n",
    "    for i in range(len(S)):\n",
    "        if not i%2:\n",
    "            even += S[i]\n",
    "        else:\n",
    "            odd += S[i]\n",
    "            \n",
    "    print even, odd"
   ]
  }
 ],
 "metadata": {
  "kernelspec": {
   "display_name": "Python 2",
   "language": "python",
   "name": "python2"
  },
  "language_info": {
   "codemirror_mode": {
    "name": "ipython",
    "version": 2
   },
   "file_extension": ".py",
   "mimetype": "text/x-python",
   "name": "python",
   "nbconvert_exporter": "python",
   "pygments_lexer": "ipython2",
   "version": "2.7.6"
  }
 },
 "nbformat": 4,
 "nbformat_minor": 0
}
