{
 "cells": [
  {
   "cell_type": "markdown",
   "metadata": {},
   "source": [
    "## Day-09: Recursion\n",
    "\n",
    "### Objective\n",
    "bjective \n",
    "Today, we're learning and practicing an algorithmic concept called Recursion. Check out the [Tutorial](https://www.hackerrank.com/challenges/30-recursion/tutorial) tab for learning materials and an instructional video!\n",
    "\n",
    "### Recursive Method for Calculating Factorial \n",
    "```python\n",
    "factorial(N) = 1 if N <= 1 else N*factorial(N - 1)\n",
    "```\n",
    "\n",
    "### Task \n",
    "Write a factorial function that takes a positive integer, *N* as a parameter and prints the result of *N!* (*N* factorial).\n",
    "\n",
    "**Note:** If you fail to use recursion or fail to name your recursive function *factorial* or *Factorial*, you will get a score of .\n",
    "\n",
    "### Input Format\n",
    "A single integer, *N* (the argument to pass to *factorial*).\n",
    "\n",
    "### Constraints\n",
    "+ `2 <= N <= 12`\n",
    "+ Your submission must contain a recursive function named *factorial*.\n",
    "\n",
    "### Output Format\n",
    "Print a single integer denoting *N!*.\n",
    "\n",
    "### Sample Input\n",
    "```python\n",
    "3\n",
    "```\n",
    "\n",
    "### Sample Output\n",
    "```python\n",
    "6\n",
    "```\n",
    "\n",
    "### Explanation\n",
    "\n",
    "Consider the following steps:\n",
    "```python\n",
    "factorial(3) = 3*factorial(2)\n",
    "factorial(2) = 2*factorial(1)\n",
    "factorial(1) = 1\n",
    "```\n",
    "\n",
    "From steps *2* and *3*, we can say `factorial(2) = 2*1 = 2`; then when we apply the value from `factorial(2)` to step *1*, we get `factorial(2) = 3*2*1 = 6`. Thus, we print *6* as our answer.\n",
    "\n",
    "### Current Buffer"
   ]
  },
  {
   "cell_type": "code",
   "execution_count": 1,
   "metadata": {
    "collapsed": false
   },
   "outputs": [
    {
     "name": "stdout",
     "output_type": "stream",
     "text": [
      "3\n",
      "6\n"
     ]
    }
   ],
   "source": [
    "# Enter your code here. Read input from STDIN. Print output to STDOUT\n",
    "def factorial(num):\n",
    "    if num <= 1:\n",
    "        return 1\n",
    "    return num*factorial(num - 1)\n",
    "\n",
    "N = int(raw_input().strip())\n",
    "\n",
    "print factorial(N)"
   ]
  }
 ],
 "metadata": {
  "kernelspec": {
   "display_name": "Python 2",
   "language": "python",
   "name": "python2"
  },
  "language_info": {
   "codemirror_mode": {
    "name": "ipython",
    "version": 2
   },
   "file_extension": ".py",
   "mimetype": "text/x-python",
   "name": "python",
   "nbconvert_exporter": "python",
   "pygments_lexer": "ipython2",
   "version": "2.7.6"
  }
 },
 "nbformat": 4,
 "nbformat_minor": 0
}
