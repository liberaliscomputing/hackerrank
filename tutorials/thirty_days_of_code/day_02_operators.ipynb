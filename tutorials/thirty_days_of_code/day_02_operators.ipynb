{
 "cells": [
  {
   "cell_type": "markdown",
   "metadata": {},
   "source": [
    "## Day-02: Operators\n",
    "\n",
    "### Objective\n",
    "In this challenge, you'll work with arithmetic operators. Check out the [Tutorial](https://www.hackerrank.com/challenges/30-operators/tutorial) tab for learning materials and an instructional video!\n",
    "\n",
    "### Task \n",
    "Given the *meal* price (base cost of a meal), *tip* percent (the percentage of the *meal price* being added as tip), and *tax percent* (the percentage of the *meal price* being added as tax) for a meal, find and print the meal's *total cost*.\n",
    "\n",
    "**Note:** Be sure to use precise values for your calculations, or you may end up with an incorrectly rounded result!\n",
    "\n",
    "### Input Format\n",
    "There are *3* lines of numeric input: \n",
    "The first line has a double, *mealCost* (the cost of the meal before tax and tip). \n",
    "The second line has an integer, *tipPercent* (the percentage of *mealCost* being added as tip). \n",
    "The third line has an integer, *taxPercent* (the percentage of *mealCost* being added as tax).\n",
    "\n",
    "### Output Format\n",
    "Print `The total meal cost is totalCost dollars.`, where *totalCost* is the rounded integer result of the entire bill (*mealCost* with added tax and tip).\n",
    "\n",
    "### Sample Input\n",
    "```python\n",
    "12.00\n",
    "20\n",
    "8\n",
    "```\n",
    "\n",
    "### Sample Output\n",
    "```python\n",
    "The total meal cost is 15 dollars.\n",
    "```\n",
    "\n",
    "### Explanation\n",
    "Given:\n",
    "```python\n",
    "mealCost = 12, tipPercent = 20, taxPercent = 8\n",
    "```\n",
    "\n",
    "Calculations:\n",
    "```python\n",
    "tip = 12*(20/100) = 2.4\n",
    "tax = 12*(8/100) = 0.96\n",
    "totalCost = mealCost + tip + tax = 12 + 2.4 + 0.96 = 15.36\n",
    "round(totalCost) = 15\n",
    "```\n",
    "\n",
    "We round *totalCost* to the nearest dollar (integer) and then print our result:\n",
    "```python\n",
    "The total meal cost is 15 dollars.\n",
    "```\n",
    "\n",
    "### Current Buffer"
   ]
  },
  {
   "cell_type": "code",
   "execution_count": 1,
   "metadata": {
    "collapsed": false
   },
   "outputs": [
    {
     "name": "stdout",
     "output_type": "stream",
     "text": [
      "12.00\n",
      "20\n",
      "8\n",
      "The total meal cost is 15 dollars.\n"
     ]
    }
   ],
   "source": [
    "meal_cost = float(raw_input())\n",
    "tip_percent = float(raw_input())\n",
    "tax_percent = float(raw_input())\n",
    "\n",
    "tip = meal_cost*(tip_percent/100)\n",
    "tax = meal_cost*(tax_percent/100)\n",
    "\n",
    "total_cost = int(round(meal_cost + tip + tax))\n",
    "\n",
    "print 'The total meal cost is {} dollars.'.format(total_cost)"
   ]
  }
 ],
 "metadata": {
  "kernelspec": {
   "display_name": "Python 2",
   "language": "python",
   "name": "python2"
  },
  "language_info": {
   "codemirror_mode": {
    "name": "ipython",
    "version": 2
   },
   "file_extension": ".py",
   "mimetype": "text/x-python",
   "name": "python",
   "nbconvert_exporter": "python",
   "pygments_lexer": "ipython2",
   "version": "2.7.6"
  }
 },
 "nbformat": 4,
 "nbformat_minor": 0
}
