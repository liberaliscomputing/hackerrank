{
 "cells": [
  {
   "cell_type": "markdown",
   "metadata": {},
   "source": [
    "## Day-14: Scope\n",
    "\n",
    "### Objective \n",
    "Today we're discussing scope. Check out the [Tutorial](https://www.hackerrank.com/challenges/30-scope/tutorial) tab for learning materials and an instructional video!\n",
    "\n",
    "---\n",
    "\n",
    "The *absolute difference* between two integers, *a* and *a*, is written as `|a - b|`. The *maximum absolute difference* between two integers in a set of positive integers, *elements*, is the largest absolute difference between any two integers in *elements*.\n",
    "\n",
    "The *Difference* class is started for you in the editor. It has a private integer array (*elements*) for storing *N* non-negative integers, and a public integer (*maximumDifference*) for storing the maximum absolute difference.\n",
    "\n",
    "### Task\n",
    "Complete the Difference class by writing the following:\n",
    "+ A class constructor that takes an array of integers as a parameter and saves it to the *elements* instance variable.\n",
    "+ A *computeDifference* method that finds the maximum absolute difference between any *2* numbers in *N* and stores it in the *maximumDifference* instance variable.\n",
    "\n",
    "### Input Format\n",
    "You are not responsible for reading any input from stdin. The locked *Solution* class in your editor reads in *2* lines of input; the first line contains *N*, and the second line describes the *elements* array.\n",
    "\n",
    "### Constraints\n",
    "+ `1 <= N <= 10`\n",
    "+ `1 <= elements[i] <= 100`, where `0 <= i <= N - 1`\n",
    "\n",
    "### Output Format\n",
    "You are not responsible for printing any output; the *Solution* class will print the value of the *maximumDifference* instance variable.\n",
    "\n",
    "### Sample Input\n",
    "```python\n",
    "3\n",
    "1 2 5\n",
    "```\n",
    "\n",
    "###Sample Output\n",
    "```python\n",
    "4\n",
    "```\n",
    "\n",
    "### Explanation\n",
    "The scope of the *elements* array and *maximumDifference* integer is the entire class instance. The class constructor saves the argument passed to the constructor as the *elements* instance variable (where the computeDifference method can access it).\n",
    "\n",
    "To find the maximum difference, *computeDifference* checks each element in the array and finds the maximum difference between any *2* elements: \n",
    "```python\n",
    "|1 - 2| = 1\n",
    "|1 - 5| = 4\n",
    "|2 - 5| = 3\n",
    "```\n",
    "\n",
    "The maximum of these differences is *4*, so it saves the value *4* as the *maximumDifference* instance variable. The locked stub code in the editor then prints the value stored as *maximumDifference*, which is *4*.\n",
    "\n",
    "### Current Buffer"
   ]
  },
  {
   "cell_type": "code",
   "execution_count": 5,
   "metadata": {
    "collapsed": true
   },
   "outputs": [],
   "source": [
    "class Difference:\n",
    "    \n",
    "    max_diff = 0\n",
    "    \n",
    "    def __init__(self, a):\n",
    "        self.__elements = a\n",
    "        \n",
    "    def compute_diff(self):\n",
    "        max_ele = self.__elements[0]\n",
    "        min_ele = self.__elements[0]\n",
    "        N = len(self.__elements)\n",
    "        \n",
    "        for i in range(N):\n",
    "            curr = self.__elements[i]\n",
    "            \n",
    "            if curr > max_ele:\n",
    "                max_ele = curr\n",
    "            elif curr < min_ele:\n",
    "                min_ele = curr\n",
    "        \n",
    "        self.max_diff = max_ele - min_ele"
   ]
  },
  {
   "cell_type": "code",
   "execution_count": 6,
   "metadata": {
    "collapsed": false
   },
   "outputs": [
    {
     "name": "stdout",
     "output_type": "stream",
     "text": [
      "1 2 5\n",
      "4\n"
     ]
    }
   ],
   "source": [
    "nums = map(int, raw_input().strip().split())\n",
    "\n",
    "diff = Difference(nums)\n",
    "diff.compute_diff()\n",
    "\n",
    "print diff.max_diff"
   ]
  }
 ],
 "metadata": {
  "kernelspec": {
   "display_name": "Python 2",
   "language": "python",
   "name": "python2"
  },
  "language_info": {
   "codemirror_mode": {
    "name": "ipython",
    "version": 2
   },
   "file_extension": ".py",
   "mimetype": "text/x-python",
   "name": "python",
   "nbconvert_exporter": "python",
   "pygments_lexer": "ipython2",
   "version": "2.7.6"
  }
 },
 "nbformat": 4,
 "nbformat_minor": 0
}
