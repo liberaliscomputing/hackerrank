{
 "cells": [
  {
   "cell_type": "markdown",
   "metadata": {},
   "source": [
    "## Day-22: Binary Search Trees\n",
    "\n",
    "### Objective\n",
    "Today, we're working with Binary Search Trees (BSTs). Check out the [Tutorial](https://www.hackerrank.com/challenges/30-binary-search-trees/tutorial) tab for learning materials and an instructional video!\n",
    "\n",
    "### Task \n",
    "The height of a binary search tree is the number of edges between the tree's root and its furthest leaf. You are given a pointer, *root*, pointing to the root of a binary search tree. Complete the *getHeight* function provided in your editor so that it returns the height of the binary search tree.\n",
    "\n",
    "### Input Format\n",
    "The locked stub code in your editor reads the following inputs and assembles them into a binary search tree:  \n",
    "The first line contains an integer, *n*, denoting the number of nodes in the tree.  \n",
    "Each of the *n* subsequent lines contains an integer, *data*, denoting the value of an element that must be added to the BST.\n",
    "\n",
    "### Output Format\n",
    "The locked stub code in your editor will print the integer returned by your *getHeight* function denoting the height of the BST.\n",
    "\n",
    "### Sample Input\n",
    "```python\n",
    "7\n",
    "3\n",
    "5\n",
    "2\n",
    "1\n",
    "4\n",
    "6\n",
    "7\n",
    "```\n",
    "\n",
    "### Sample Output\n",
    "```python\n",
    "3\n",
    "```\n",
    "\n",
    "### Explanation\n",
    "The input forms the following BST:\n",
    "<img src=\"files/BSTs_01.png\">\n",
    "\n",
    "The longest root-to-leaf path is shown below:\n",
    "<img src=\"files/BSTs_02.png\">\n",
    "\n",
    "There are *4* nodes in this path that are connected by *3* edges, meaning our BST's `height = 3`. Thus, we print *3* as our answer.\n",
    "\n",
    "### Current Buffer"
   ]
  },
  {
   "cell_type": "code",
   "execution_count": 1,
   "metadata": {
    "collapsed": true
   },
   "outputs": [],
   "source": [
    "class Node:\n",
    "    \n",
    "    def __init__(self, data):\n",
    "        self.data = data\n",
    "        self.prev = self.next = None\n",
    "        \n",
    "class Solution:\n",
    "    \n",
    "    def insert(self, node, data):\n",
    "        if not node:\n",
    "            return Node(data)\n",
    "        else:\n",
    "            if data < node.data:\n",
    "                curr = self.insert(node.prev, data)\n",
    "                node.prev = curr\n",
    "            else:\n",
    "                curr = self.insert(node.next, data)\n",
    "                node.next = curr\n",
    "        return node\n",
    "    \n",
    "    def get_height(self, node):\n",
    "        #Write your code here\n",
    "        if not node:\n",
    "            return -1        \n",
    "        return max(self.get_height(node.prev), \n",
    "                   self.get_height(node.next)) + 1"
   ]
  },
  {
   "cell_type": "code",
   "execution_count": 3,
   "metadata": {
    "collapsed": false
   },
   "outputs": [
    {
     "name": "stdout",
     "output_type": "stream",
     "text": [
      "7\n",
      "3\n",
      "5\n",
      "2\n",
      "1\n",
      "4\n",
      "6\n",
      "7\n",
      "Height:  3\n"
     ]
    }
   ],
   "source": [
    "T = int(raw_input().strip())\n",
    "bst = Solution()\n",
    "root = None\n",
    "\n",
    "for i in range(T):\n",
    "    data = int(raw_input().strip())\n",
    "    root = bst.insert(root, data)\n",
    "    \n",
    "height = bst.get_height(root)\n",
    "print 'Height: ', height"
   ]
  }
 ],
 "metadata": {
  "kernelspec": {
   "display_name": "Python 2",
   "language": "python",
   "name": "python2"
  },
  "language_info": {
   "codemirror_mode": {
    "name": "ipython",
    "version": 2
   },
   "file_extension": ".py",
   "mimetype": "text/x-python",
   "name": "python",
   "nbconvert_exporter": "python",
   "pygments_lexer": "ipython2",
   "version": "2.7.6"
  }
 },
 "nbformat": 4,
 "nbformat_minor": 0
}
